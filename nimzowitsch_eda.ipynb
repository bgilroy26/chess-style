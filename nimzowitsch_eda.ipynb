{
 "cells": [
  {
   "cell_type": "code",
   "execution_count": 1,
   "metadata": {},
   "outputs": [],
   "source": [
    "import itertools\n",
    "import pandas as pd\n",
    "import matplotlib.pyplot as plt\n",
    "import seaborn as sns\n",
    "%matplotlib inline\n",
    "\n",
    "nimzowitsch_df = pd.read_csv('nimzowitsch_df.csv')"
   ]
  },
  {
   "cell_type": "code",
   "execution_count": null,
   "metadata": {},
   "outputs": [],
   "source": []
  },
  {
   "cell_type": "code",
   "execution_count": 2,
   "metadata": {},
   "outputs": [
    {
     "data": {
      "text/html": [
       "<div>\n",
       "<style scoped>\n",
       "    .dataframe tbody tr th:only-of-type {\n",
       "        vertical-align: middle;\n",
       "    }\n",
       "\n",
       "    .dataframe tbody tr th {\n",
       "        vertical-align: top;\n",
       "    }\n",
       "\n",
       "    .dataframe thead th {\n",
       "        text-align: right;\n",
       "    }\n",
       "</style>\n",
       "<table border=\"1\" class=\"dataframe\">\n",
       "  <thead>\n",
       "    <tr style=\"text-align: right;\">\n",
       "      <th></th>\n",
       "      <th>player_id</th>\n",
       "      <th>game_id</th>\n",
       "      <th>position_id</th>\n",
       "      <th>position_fen</th>\n",
       "      <th>whose_turn</th>\n",
       "      <th>result_white_win</th>\n",
       "      <th>result_draw</th>\n",
       "      <th>result_black_win</th>\n",
       "      <th>player_color</th>\n",
       "      <th>player_piece_activity</th>\n",
       "      <th>opponent_piece_activity</th>\n",
       "      <th>player_protected_pieces</th>\n",
       "      <th>opponent_protected_pieces</th>\n",
       "      <th>MaeToi_white_win</th>\n",
       "      <th>MaeToi_black_win</th>\n",
       "      <th>MaeToi_draw</th>\n",
       "    </tr>\n",
       "  </thead>\n",
       "  <tbody>\n",
       "    <tr>\n",
       "      <td>0</td>\n",
       "      <td>2</td>\n",
       "      <td>0</td>\n",
       "      <td>0</td>\n",
       "      <td>rnbqkbnr/pppppppp/8/8/8/8/PPPPPPPP/RNBQKBNR</td>\n",
       "      <td>w</td>\n",
       "      <td>1</td>\n",
       "      <td>0</td>\n",
       "      <td>0</td>\n",
       "      <td>white</td>\n",
       "      <td>22</td>\n",
       "      <td>20</td>\n",
       "      <td>20</td>\n",
       "      <td>20</td>\n",
       "      <td>2.744563</td>\n",
       "      <td>2.280528</td>\n",
       "      <td>2.909326</td>\n",
       "    </tr>\n",
       "    <tr>\n",
       "      <td>1</td>\n",
       "      <td>2</td>\n",
       "      <td>0</td>\n",
       "      <td>1</td>\n",
       "      <td>rnbqkbnr/pppppppp/8/8/4P3/8/PPPP1PPP/RNBQKBNR</td>\n",
       "      <td>b</td>\n",
       "      <td>1</td>\n",
       "      <td>0</td>\n",
       "      <td>0</td>\n",
       "      <td>white</td>\n",
       "      <td>29</td>\n",
       "      <td>20</td>\n",
       "      <td>16</td>\n",
       "      <td>20</td>\n",
       "      <td>2.910997</td>\n",
       "      <td>2.545002</td>\n",
       "      <td>2.954996</td>\n",
       "    </tr>\n",
       "    <tr>\n",
       "      <td>2</td>\n",
       "      <td>2</td>\n",
       "      <td>0</td>\n",
       "      <td>2</td>\n",
       "      <td>rnbqkbnr/ppp1pppp/8/3p4/4P3/8/PPPP1PPP/RNBQKBNR</td>\n",
       "      <td>w</td>\n",
       "      <td>1</td>\n",
       "      <td>0</td>\n",
       "      <td>0</td>\n",
       "      <td>white</td>\n",
       "      <td>29</td>\n",
       "      <td>26</td>\n",
       "      <td>16</td>\n",
       "      <td>17</td>\n",
       "      <td>2.026273</td>\n",
       "      <td>1.844998</td>\n",
       "      <td>1.557951</td>\n",
       "    </tr>\n",
       "    <tr>\n",
       "      <td>3</td>\n",
       "      <td>2</td>\n",
       "      <td>0</td>\n",
       "      <td>3</td>\n",
       "      <td>rnbqkbnr/ppp1pppp/8/3P4/8/8/PPPP1PPP/RNBQKBNR</td>\n",
       "      <td>b</td>\n",
       "      <td>1</td>\n",
       "      <td>0</td>\n",
       "      <td>0</td>\n",
       "      <td>white</td>\n",
       "      <td>29</td>\n",
       "      <td>26</td>\n",
       "      <td>16</td>\n",
       "      <td>16</td>\n",
       "      <td>3.050241</td>\n",
       "      <td>2.208637</td>\n",
       "      <td>2.268038</td>\n",
       "    </tr>\n",
       "    <tr>\n",
       "      <td>4</td>\n",
       "      <td>2</td>\n",
       "      <td>0</td>\n",
       "      <td>4</td>\n",
       "      <td>rnb1kbnr/ppp1pppp/8/3q4/8/8/PPPP1PPP/RNBQKBNR</td>\n",
       "      <td>w</td>\n",
       "      <td>1</td>\n",
       "      <td>0</td>\n",
       "      <td>0</td>\n",
       "      <td>white</td>\n",
       "      <td>27</td>\n",
       "      <td>39</td>\n",
       "      <td>16</td>\n",
       "      <td>13</td>\n",
       "      <td>2.792902</td>\n",
       "      <td>1.463517</td>\n",
       "      <td>1.922986</td>\n",
       "    </tr>\n",
       "  </tbody>\n",
       "</table>\n",
       "</div>"
      ],
      "text/plain": [
       "   player_id  game_id  position_id  \\\n",
       "0          2        0            0   \n",
       "1          2        0            1   \n",
       "2          2        0            2   \n",
       "3          2        0            3   \n",
       "4          2        0            4   \n",
       "\n",
       "                                      position_fen whose_turn  \\\n",
       "0      rnbqkbnr/pppppppp/8/8/8/8/PPPPPPPP/RNBQKBNR          w   \n",
       "1    rnbqkbnr/pppppppp/8/8/4P3/8/PPPP1PPP/RNBQKBNR          b   \n",
       "2  rnbqkbnr/ppp1pppp/8/3p4/4P3/8/PPPP1PPP/RNBQKBNR          w   \n",
       "3    rnbqkbnr/ppp1pppp/8/3P4/8/8/PPPP1PPP/RNBQKBNR          b   \n",
       "4    rnb1kbnr/ppp1pppp/8/3q4/8/8/PPPP1PPP/RNBQKBNR          w   \n",
       "\n",
       "   result_white_win  result_draw  result_black_win player_color  \\\n",
       "0                 1            0                 0        white   \n",
       "1                 1            0                 0        white   \n",
       "2                 1            0                 0        white   \n",
       "3                 1            0                 0        white   \n",
       "4                 1            0                 0        white   \n",
       "\n",
       "   player_piece_activity  opponent_piece_activity  player_protected_pieces  \\\n",
       "0                     22                       20                       20   \n",
       "1                     29                       20                       16   \n",
       "2                     29                       26                       16   \n",
       "3                     29                       26                       16   \n",
       "4                     27                       39                       16   \n",
       "\n",
       "   opponent_protected_pieces  MaeToi_white_win  MaeToi_black_win  MaeToi_draw  \n",
       "0                         20          2.744563          2.280528     2.909326  \n",
       "1                         20          2.910997          2.545002     2.954996  \n",
       "2                         17          2.026273          1.844998     1.557951  \n",
       "3                         16          3.050241          2.208637     2.268038  \n",
       "4                         13          2.792902          1.463517     1.922986  "
      ]
     },
     "execution_count": 2,
     "metadata": {},
     "output_type": "execute_result"
    }
   ],
   "source": [
    "nimzowitsch_df.head()"
   ]
  },
  {
   "cell_type": "code",
   "execution_count": 3,
   "metadata": {},
   "outputs": [
    {
     "data": {
      "text/plain": [
       "Index(['player_id', 'game_id', 'position_id', 'position_fen', 'whose_turn',\n",
       "       'result_white_win', 'result_draw', 'result_black_win', 'player_color',\n",
       "       'player_piece_activity', 'opponent_piece_activity',\n",
       "       'player_protected_pieces', 'opponent_protected_pieces',\n",
       "       'MaeToi_white_win', 'MaeToi_black_win', 'MaeToi_draw'],\n",
       "      dtype='object')"
      ]
     },
     "execution_count": 3,
     "metadata": {},
     "output_type": "execute_result"
    }
   ],
   "source": [
    "nimzowitsch_df.columns"
   ]
  },
  {
   "cell_type": "code",
   "execution_count": 4,
   "metadata": {},
   "outputs": [],
   "source": [
    "positions = nimzowitsch_df.groupby('position_id')"
   ]
  },
  {
   "cell_type": "code",
   "execution_count": 5,
   "metadata": {},
   "outputs": [
    {
     "data": {
      "text/plain": [
       "1.069055971066705"
      ]
     },
     "execution_count": 5,
     "metadata": {},
     "output_type": "execute_result"
    }
   ],
   "source": [
    "player_activity = positions.agg({'player_piece_activity':'mean'})\n",
    "opponent_activity = positions.agg({'opponent_piece_activity':'mean'})\n",
    "nimzowitsch_activity_df = player_activity.merge(opponent_activity, left_index=True, right_index=True)\n",
    "nimzowitsch_activity_df['activity'] = nimzowitsch_activity_df['player_piece_activity']/nimzowitsch_activity_df['opponent_piece_activity']\n",
    "\n",
    "nimzowitsch_activity_df['activity'].mean()"
   ]
  },
  {
   "cell_type": "code",
   "execution_count": 7,
   "metadata": {},
   "outputs": [],
   "source": [
    "white_pieces = set('KQBNRP')\n",
    "black_pieces = set('kqbnrp')\n",
    "for position_id, position, player_color in zip(nimzowitsch_df.position_id, nimzowitsch_df.position_fen, nimzowitsch_df.player_color):  \n",
    "    if player_color == 'black':\n",
    "        nimzowitsch_df.at[position_id, 'player_pieces'] = position.count('k')+position.count('q')+position.count('b')+position.count('n')+position.count('r')\n",
    "    else:\n",
    "        nimzowitsch_df.at[position_id, 'player_pieces'] = position.count('K')+position.count('Q')+position.count('B')+position.count('N')+position.count('R')"
   ]
  },
  {
   "cell_type": "code",
   "execution_count": 8,
   "metadata": {},
   "outputs": [
    {
     "data": {
      "text/plain": [
       "2.3956350502555313"
      ]
     },
     "execution_count": 8,
     "metadata": {},
     "output_type": "execute_result"
    }
   ],
   "source": [
    "player_coordination = positions.agg({'player_protected_pieces':'first'})\n",
    "player_pieces = positions.agg({'player_pieces':'first'})\n",
    "\n",
    "nimzowitsch_coord_df = player_coordination.merge(player_pieces, left_index=True, right_index=True)\n",
    "nimzowitsch_coord_df['coordination'] = nimzowitsch_coord_df['player_protected_pieces']/nimzowitsch_coord_df['player_pieces']     \n",
    "nimzowitsch_coord_df['coordination'].mean()"
   ]
  },
  {
   "cell_type": "code",
   "execution_count": null,
   "metadata": {},
   "outputs": [],
   "source": []
  }
 ],
 "metadata": {
  "kernelspec": {
   "display_name": "Python 3",
   "language": "python",
   "name": "python3"
  },
  "language_info": {
   "codemirror_mode": {
    "name": "ipython",
    "version": 3
   },
   "file_extension": ".py",
   "mimetype": "text/x-python",
   "name": "python",
   "nbconvert_exporter": "python",
   "pygments_lexer": "ipython3",
   "version": "3.7.4"
  }
 },
 "nbformat": 4,
 "nbformat_minor": 2
}
