{
 "cells": [
  {
   "cell_type": "code",
   "execution_count": 2,
   "metadata": {},
   "outputs": [],
   "source": [
    "import itertools\n",
    "import pandas as pd\n",
    "import matplotlib.pyplot as plt\n",
    "import seaborn as sns\n",
    "%matplotlib inline\n",
    "\n",
    "petrosian_df = pd.read_csv('petrosian_df.csv')"
   ]
  },
  {
   "cell_type": "code",
   "execution_count": null,
   "metadata": {},
   "outputs": [],
   "source": []
  },
  {
   "cell_type": "code",
   "execution_count": 3,
   "metadata": {},
   "outputs": [
    {
     "data": {
      "text/html": [
       "<div>\n",
       "<style scoped>\n",
       "    .dataframe tbody tr th:only-of-type {\n",
       "        vertical-align: middle;\n",
       "    }\n",
       "\n",
       "    .dataframe tbody tr th {\n",
       "        vertical-align: top;\n",
       "    }\n",
       "\n",
       "    .dataframe thead th {\n",
       "        text-align: right;\n",
       "    }\n",
       "</style>\n",
       "<table border=\"1\" class=\"dataframe\">\n",
       "  <thead>\n",
       "    <tr style=\"text-align: right;\">\n",
       "      <th></th>\n",
       "      <th>player_id</th>\n",
       "      <th>game_id</th>\n",
       "      <th>position_id</th>\n",
       "      <th>position_fen</th>\n",
       "      <th>whose_turn</th>\n",
       "      <th>result_white_win</th>\n",
       "      <th>result_draw</th>\n",
       "      <th>result_black_win</th>\n",
       "      <th>player_color</th>\n",
       "      <th>player_piece_activity</th>\n",
       "      <th>opponent_piece_activity</th>\n",
       "      <th>player_protected_pieces</th>\n",
       "      <th>opponent_protected_pieces</th>\n",
       "      <th>MaeToi_white_win</th>\n",
       "      <th>MaeToi_black_win</th>\n",
       "      <th>MaeToi_draw</th>\n",
       "    </tr>\n",
       "  </thead>\n",
       "  <tbody>\n",
       "    <tr>\n",
       "      <td>0</td>\n",
       "      <td>1</td>\n",
       "      <td>0</td>\n",
       "      <td>0</td>\n",
       "      <td>rnbqkbnr/pppppppp/8/8/8/8/PPPPPPPP/RNBQKBNR</td>\n",
       "      <td>w</td>\n",
       "      <td>1</td>\n",
       "      <td>0</td>\n",
       "      <td>0</td>\n",
       "      <td>white</td>\n",
       "      <td>22</td>\n",
       "      <td>20</td>\n",
       "      <td>20</td>\n",
       "      <td>20</td>\n",
       "      <td>2.744563</td>\n",
       "      <td>2.280528</td>\n",
       "      <td>2.909326</td>\n",
       "    </tr>\n",
       "    <tr>\n",
       "      <td>1</td>\n",
       "      <td>1</td>\n",
       "      <td>0</td>\n",
       "      <td>1</td>\n",
       "      <td>rnbqkbnr/pppppppp/8/8/3P4/8/PPP1PPPP/RNBQKBNR</td>\n",
       "      <td>b</td>\n",
       "      <td>1</td>\n",
       "      <td>0</td>\n",
       "      <td>0</td>\n",
       "      <td>white</td>\n",
       "      <td>28</td>\n",
       "      <td>20</td>\n",
       "      <td>17</td>\n",
       "      <td>20</td>\n",
       "      <td>2.086527</td>\n",
       "      <td>1.506525</td>\n",
       "      <td>2.341196</td>\n",
       "    </tr>\n",
       "    <tr>\n",
       "      <td>2</td>\n",
       "      <td>1</td>\n",
       "      <td>0</td>\n",
       "      <td>2</td>\n",
       "      <td>rnbqkb1r/pppppppp/5n2/8/3P4/8/PPP1PPPP/RNBQKBNR</td>\n",
       "      <td>w</td>\n",
       "      <td>1</td>\n",
       "      <td>0</td>\n",
       "      <td>0</td>\n",
       "      <td>white</td>\n",
       "      <td>28</td>\n",
       "      <td>22</td>\n",
       "      <td>17</td>\n",
       "      <td>24</td>\n",
       "      <td>2.017654</td>\n",
       "      <td>1.573375</td>\n",
       "      <td>2.422188</td>\n",
       "    </tr>\n",
       "    <tr>\n",
       "      <td>3</td>\n",
       "      <td>1</td>\n",
       "      <td>0</td>\n",
       "      <td>3</td>\n",
       "      <td>rnbqkb1r/pppppppp/5n2/8/2PP4/8/PP2PPPP/RNBQKBNR</td>\n",
       "      <td>b</td>\n",
       "      <td>1</td>\n",
       "      <td>0</td>\n",
       "      <td>0</td>\n",
       "      <td>white</td>\n",
       "      <td>31</td>\n",
       "      <td>22</td>\n",
       "      <td>16</td>\n",
       "      <td>24</td>\n",
       "      <td>2.100609</td>\n",
       "      <td>1.553704</td>\n",
       "      <td>2.510166</td>\n",
       "    </tr>\n",
       "    <tr>\n",
       "      <td>4</td>\n",
       "      <td>1</td>\n",
       "      <td>0</td>\n",
       "      <td>4</td>\n",
       "      <td>rnbqkb1r/pppp1ppp/5n2/4p3/2PP4/8/PP2PPPP/RNBQKBNR</td>\n",
       "      <td>w</td>\n",
       "      <td>1</td>\n",
       "      <td>0</td>\n",
       "      <td>0</td>\n",
       "      <td>white</td>\n",
       "      <td>31</td>\n",
       "      <td>27</td>\n",
       "      <td>16</td>\n",
       "      <td>21</td>\n",
       "      <td>2.292658</td>\n",
       "      <td>1.923593</td>\n",
       "      <td>2.498060</td>\n",
       "    </tr>\n",
       "  </tbody>\n",
       "</table>\n",
       "</div>"
      ],
      "text/plain": [
       "   player_id  game_id  position_id  \\\n",
       "0          1        0            0   \n",
       "1          1        0            1   \n",
       "2          1        0            2   \n",
       "3          1        0            3   \n",
       "4          1        0            4   \n",
       "\n",
       "                                        position_fen whose_turn  \\\n",
       "0        rnbqkbnr/pppppppp/8/8/8/8/PPPPPPPP/RNBQKBNR          w   \n",
       "1      rnbqkbnr/pppppppp/8/8/3P4/8/PPP1PPPP/RNBQKBNR          b   \n",
       "2    rnbqkb1r/pppppppp/5n2/8/3P4/8/PPP1PPPP/RNBQKBNR          w   \n",
       "3    rnbqkb1r/pppppppp/5n2/8/2PP4/8/PP2PPPP/RNBQKBNR          b   \n",
       "4  rnbqkb1r/pppp1ppp/5n2/4p3/2PP4/8/PP2PPPP/RNBQKBNR          w   \n",
       "\n",
       "   result_white_win  result_draw  result_black_win player_color  \\\n",
       "0                 1            0                 0        white   \n",
       "1                 1            0                 0        white   \n",
       "2                 1            0                 0        white   \n",
       "3                 1            0                 0        white   \n",
       "4                 1            0                 0        white   \n",
       "\n",
       "   player_piece_activity  opponent_piece_activity  player_protected_pieces  \\\n",
       "0                     22                       20                       20   \n",
       "1                     28                       20                       17   \n",
       "2                     28                       22                       17   \n",
       "3                     31                       22                       16   \n",
       "4                     31                       27                       16   \n",
       "\n",
       "   opponent_protected_pieces  MaeToi_white_win  MaeToi_black_win  MaeToi_draw  \n",
       "0                         20          2.744563          2.280528     2.909326  \n",
       "1                         20          2.086527          1.506525     2.341196  \n",
       "2                         24          2.017654          1.573375     2.422188  \n",
       "3                         24          2.100609          1.553704     2.510166  \n",
       "4                         21          2.292658          1.923593     2.498060  "
      ]
     },
     "execution_count": 3,
     "metadata": {},
     "output_type": "execute_result"
    }
   ],
   "source": [
    "petrosian_df.head()"
   ]
  },
  {
   "cell_type": "code",
   "execution_count": 4,
   "metadata": {},
   "outputs": [
    {
     "data": {
      "text/plain": [
       "Index(['player_id', 'game_id', 'position_id', 'position_fen', 'whose_turn',\n",
       "       'result_white_win', 'result_draw', 'result_black_win', 'player_color',\n",
       "       'player_piece_activity', 'opponent_piece_activity',\n",
       "       'player_protected_pieces', 'opponent_protected_pieces',\n",
       "       'MaeToi_white_win', 'MaeToi_black_win', 'MaeToi_draw'],\n",
       "      dtype='object')"
      ]
     },
     "execution_count": 4,
     "metadata": {},
     "output_type": "execute_result"
    }
   ],
   "source": [
    "petrosian_df.columns"
   ]
  },
  {
   "cell_type": "code",
   "execution_count": 5,
   "metadata": {},
   "outputs": [],
   "source": [
    "positions = petrosian_df.groupby('position_id')"
   ]
  },
  {
   "cell_type": "code",
   "execution_count": 6,
   "metadata": {},
   "outputs": [
    {
     "data": {
      "text/plain": [
       "1.0862166788040317"
      ]
     },
     "execution_count": 6,
     "metadata": {},
     "output_type": "execute_result"
    }
   ],
   "source": [
    "player_activity = positions.agg({'player_piece_activity':'mean'})\n",
    "opponent_activity = positions.agg({'opponent_piece_activity':'mean'})\n",
    "petrosian_activity_df = player_activity.merge(opponent_activity, left_index=True, right_index=True)\n",
    "petrosian_activity_df['activity'] = petrosian_activity_df['player_piece_activity']/petrosian_activity_df['opponent_piece_activity']\n",
    "\n",
    "petrosian_activity_df['activity'].mean()"
   ]
  },
  {
   "cell_type": "code",
   "execution_count": 9,
   "metadata": {},
   "outputs": [],
   "source": [
    "white_pieces = set('KQBNRP')\n",
    "black_pieces = set('kqbnrp')\n",
    "for position_id, position, player_color in zip(petrosian_df.position_id, petrosian_df.position_fen, petrosian_df.player_color):  \n",
    "    if player_color == 'black':\n",
    "        petrosian_df.at[position_id, 'player_pieces'] = position.count('k')+position.count('q')+position.count('b')+position.count('n')+position.count('r')\n",
    "    else:\n",
    "        petrosian_df.at[position_id, 'player_pieces'] = position.count('K')+position.count('Q')+position.count('B')+position.count('N')+position.count('R')"
   ]
  },
  {
   "cell_type": "code",
   "execution_count": 10,
   "metadata": {},
   "outputs": [
    {
     "data": {
      "text/plain": [
       "2.555282981516779"
      ]
     },
     "execution_count": 10,
     "metadata": {},
     "output_type": "execute_result"
    }
   ],
   "source": [
    "player_coordination = positions.agg({'player_protected_pieces':'first'})\n",
    "player_pieces = positions.agg({'player_pieces':'first'})\n",
    "\n",
    "petrosian_coord_df = player_coordination.merge(player_pieces, left_index=True, right_index=True)\n",
    "petrosian_coord_df['coordination'] = petrosian_coord_df['player_protected_pieces']/petrosian_coord_df['player_pieces']     \n",
    "petrosian_coord_df['coordination'].mean()"
   ]
  },
  {
   "cell_type": "code",
   "execution_count": null,
   "metadata": {},
   "outputs": [],
   "source": []
  }
 ],
 "metadata": {
  "kernelspec": {
   "display_name": "Python 3",
   "language": "python",
   "name": "python3"
  },
  "language_info": {
   "codemirror_mode": {
    "name": "ipython",
    "version": 3
   },
   "file_extension": ".py",
   "mimetype": "text/x-python",
   "name": "python",
   "nbconvert_exporter": "python",
   "pygments_lexer": "ipython3",
   "version": "3.7.4"
  }
 },
 "nbformat": 4,
 "nbformat_minor": 2
}
